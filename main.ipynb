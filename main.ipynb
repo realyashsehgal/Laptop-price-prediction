{
 "cells": [
  {
   "cell_type": "code",
   "execution_count": 1,
   "metadata": {},
   "outputs": [],
   "source": [
    "import pandas as pd\n",
    "import numpy as np\n",
    "import seaborn as sns\n",
    "import matplotlib.pyplot as plt\n",
    "from scipy import stats\n",
    "import scipy.stats as stats\n",
    "import scipy.stats as pearsonr\n",
    "from scipy.stats import shapiro\n",
    "from sklearn.tree import DecisionTreeRegressor\n",
    "from sklearn.model_selection import train_test_split\n",
    "from sklearn.metrics import mean_squared_error"
   ]
  },
  {
   "cell_type": "code",
   "execution_count": 2,
   "metadata": {},
   "outputs": [
    {
     "data": {
      "text/html": [
       "<div>\n",
       "<style scoped>\n",
       "    .dataframe tbody tr th:only-of-type {\n",
       "        vertical-align: middle;\n",
       "    }\n",
       "\n",
       "    .dataframe tbody tr th {\n",
       "        vertical-align: top;\n",
       "    }\n",
       "\n",
       "    .dataframe thead th {\n",
       "        text-align: right;\n",
       "    }\n",
       "</style>\n",
       "<table border=\"1\" class=\"dataframe\">\n",
       "  <thead>\n",
       "    <tr style=\"text-align: right;\">\n",
       "      <th></th>\n",
       "      <th>Brand</th>\n",
       "      <th>Processor_Speed</th>\n",
       "      <th>RAM_Size</th>\n",
       "      <th>Storage_Capacity</th>\n",
       "      <th>Screen_Size</th>\n",
       "      <th>Weight</th>\n",
       "      <th>Price</th>\n",
       "    </tr>\n",
       "  </thead>\n",
       "  <tbody>\n",
       "    <tr>\n",
       "      <th>0</th>\n",
       "      <td>Asus</td>\n",
       "      <td>3.830296</td>\n",
       "      <td>16</td>\n",
       "      <td>512</td>\n",
       "      <td>11.185147</td>\n",
       "      <td>2.641094</td>\n",
       "      <td>17395.093065</td>\n",
       "    </tr>\n",
       "    <tr>\n",
       "      <th>1</th>\n",
       "      <td>Acer</td>\n",
       "      <td>2.912833</td>\n",
       "      <td>4</td>\n",
       "      <td>1000</td>\n",
       "      <td>11.311372</td>\n",
       "      <td>3.260012</td>\n",
       "      <td>31607.605919</td>\n",
       "    </tr>\n",
       "    <tr>\n",
       "      <th>2</th>\n",
       "      <td>Lenovo</td>\n",
       "      <td>3.241627</td>\n",
       "      <td>4</td>\n",
       "      <td>256</td>\n",
       "      <td>11.853023</td>\n",
       "      <td>2.029061</td>\n",
       "      <td>9291.023542</td>\n",
       "    </tr>\n",
       "    <tr>\n",
       "      <th>3</th>\n",
       "      <td>Acer</td>\n",
       "      <td>3.806248</td>\n",
       "      <td>16</td>\n",
       "      <td>512</td>\n",
       "      <td>12.280360</td>\n",
       "      <td>4.573865</td>\n",
       "      <td>17436.728334</td>\n",
       "    </tr>\n",
       "    <tr>\n",
       "      <th>4</th>\n",
       "      <td>Acer</td>\n",
       "      <td>3.268097</td>\n",
       "      <td>32</td>\n",
       "      <td>1000</td>\n",
       "      <td>14.990877</td>\n",
       "      <td>4.193472</td>\n",
       "      <td>32917.990718</td>\n",
       "    </tr>\n",
       "  </tbody>\n",
       "</table>\n",
       "</div>"
      ],
      "text/plain": [
       "    Brand  Processor_Speed  RAM_Size  Storage_Capacity  Screen_Size    Weight  \\\n",
       "0    Asus         3.830296        16               512    11.185147  2.641094   \n",
       "1    Acer         2.912833         4              1000    11.311372  3.260012   \n",
       "2  Lenovo         3.241627         4               256    11.853023  2.029061   \n",
       "3    Acer         3.806248        16               512    12.280360  4.573865   \n",
       "4    Acer         3.268097        32              1000    14.990877  4.193472   \n",
       "\n",
       "          Price  \n",
       "0  17395.093065  \n",
       "1  31607.605919  \n",
       "2   9291.023542  \n",
       "3  17436.728334  \n",
       "4  32917.990718  "
      ]
     },
     "execution_count": 2,
     "metadata": {},
     "output_type": "execute_result"
    }
   ],
   "source": [
    "df = pd.read_csv('Laptop_price.csv')\n",
    "df.head()"
   ]
  },
  {
   "cell_type": "code",
   "execution_count": 3,
   "metadata": {},
   "outputs": [
    {
     "data": {
      "text/plain": [
       "(1013, 7)"
      ]
     },
     "execution_count": 3,
     "metadata": {},
     "output_type": "execute_result"
    }
   ],
   "source": [
    "df.shape"
   ]
  },
  {
   "cell_type": "code",
   "execution_count": 4,
   "metadata": {},
   "outputs": [
    {
     "data": {
      "text/plain": [
       "Brand                object\n",
       "Processor_Speed     float64\n",
       "RAM_Size              int64\n",
       "Storage_Capacity      int64\n",
       "Screen_Size         float64\n",
       "Weight              float64\n",
       "Price               float64\n",
       "dtype: object"
      ]
     },
     "execution_count": 4,
     "metadata": {},
     "output_type": "execute_result"
    }
   ],
   "source": [
    "df.dtypes"
   ]
  },
  {
   "cell_type": "code",
   "execution_count": 5,
   "metadata": {},
   "outputs": [
    {
     "data": {
      "text/plain": [
       "Brand               0\n",
       "Processor_Speed     0\n",
       "RAM_Size            0\n",
       "Storage_Capacity    0\n",
       "Screen_Size         0\n",
       "Weight              0\n",
       "Price               0\n",
       "dtype: int64"
      ]
     },
     "execution_count": 5,
     "metadata": {},
     "output_type": "execute_result"
    }
   ],
   "source": [
    "df.isnull().sum()"
   ]
  },
  {
   "cell_type": "code",
   "execution_count": 6,
   "metadata": {},
   "outputs": [
    {
     "data": {
      "text/plain": [
       "np.int64(0)"
      ]
     },
     "execution_count": 6,
     "metadata": {},
     "output_type": "execute_result"
    }
   ],
   "source": [
    "df.duplicated().sum()"
   ]
  },
  {
   "cell_type": "code",
   "execution_count": 7,
   "metadata": {},
   "outputs": [
    {
     "data": {
      "text/html": [
       "<div>\n",
       "<style scoped>\n",
       "    .dataframe tbody tr th:only-of-type {\n",
       "        vertical-align: middle;\n",
       "    }\n",
       "\n",
       "    .dataframe tbody tr th {\n",
       "        vertical-align: top;\n",
       "    }\n",
       "\n",
       "    .dataframe thead th {\n",
       "        text-align: right;\n",
       "    }\n",
       "</style>\n",
       "<table border=\"1\" class=\"dataframe\">\n",
       "  <thead>\n",
       "    <tr style=\"text-align: right;\">\n",
       "      <th></th>\n",
       "      <th>Brand</th>\n",
       "      <th>Processor_Speed</th>\n",
       "      <th>RAM_Size</th>\n",
       "      <th>Storage_Capacity</th>\n",
       "      <th>Screen_Size</th>\n",
       "      <th>Weight</th>\n",
       "      <th>Price</th>\n",
       "    </tr>\n",
       "  </thead>\n",
       "  <tbody>\n",
       "    <tr>\n",
       "      <th>0</th>\n",
       "      <td>Asus</td>\n",
       "      <td>3.830296</td>\n",
       "      <td>16</td>\n",
       "      <td>512</td>\n",
       "      <td>11.185147</td>\n",
       "      <td>2.641094</td>\n",
       "      <td>17395.093065</td>\n",
       "    </tr>\n",
       "    <tr>\n",
       "      <th>1</th>\n",
       "      <td>Acer</td>\n",
       "      <td>2.912833</td>\n",
       "      <td>4</td>\n",
       "      <td>1000</td>\n",
       "      <td>11.311372</td>\n",
       "      <td>3.260012</td>\n",
       "      <td>31607.605919</td>\n",
       "    </tr>\n",
       "    <tr>\n",
       "      <th>2</th>\n",
       "      <td>Lenovo</td>\n",
       "      <td>3.241627</td>\n",
       "      <td>4</td>\n",
       "      <td>256</td>\n",
       "      <td>11.853023</td>\n",
       "      <td>2.029061</td>\n",
       "      <td>9291.023542</td>\n",
       "    </tr>\n",
       "    <tr>\n",
       "      <th>3</th>\n",
       "      <td>Acer</td>\n",
       "      <td>3.806248</td>\n",
       "      <td>16</td>\n",
       "      <td>512</td>\n",
       "      <td>12.280360</td>\n",
       "      <td>4.573865</td>\n",
       "      <td>17436.728334</td>\n",
       "    </tr>\n",
       "    <tr>\n",
       "      <th>4</th>\n",
       "      <td>Acer</td>\n",
       "      <td>3.268097</td>\n",
       "      <td>32</td>\n",
       "      <td>1000</td>\n",
       "      <td>14.990877</td>\n",
       "      <td>4.193472</td>\n",
       "      <td>32917.990718</td>\n",
       "    </tr>\n",
       "  </tbody>\n",
       "</table>\n",
       "</div>"
      ],
      "text/plain": [
       "    Brand  Processor_Speed  RAM_Size  Storage_Capacity  Screen_Size    Weight  \\\n",
       "0    Asus         3.830296        16               512    11.185147  2.641094   \n",
       "1    Acer         2.912833         4              1000    11.311372  3.260012   \n",
       "2  Lenovo         3.241627         4               256    11.853023  2.029061   \n",
       "3    Acer         3.806248        16               512    12.280360  4.573865   \n",
       "4    Acer         3.268097        32              1000    14.990877  4.193472   \n",
       "\n",
       "          Price  \n",
       "0  17395.093065  \n",
       "1  31607.605919  \n",
       "2   9291.023542  \n",
       "3  17436.728334  \n",
       "4  32917.990718  "
      ]
     },
     "execution_count": 7,
     "metadata": {},
     "output_type": "execute_result"
    }
   ],
   "source": [
    "df.head()"
   ]
  },
  {
   "cell_type": "code",
   "execution_count": 8,
   "metadata": {},
   "outputs": [],
   "source": [
    "df = df.round(2)"
   ]
  },
  {
   "cell_type": "code",
   "execution_count": 9,
   "metadata": {},
   "outputs": [
    {
     "data": {
      "text/html": [
       "<div>\n",
       "<style scoped>\n",
       "    .dataframe tbody tr th:only-of-type {\n",
       "        vertical-align: middle;\n",
       "    }\n",
       "\n",
       "    .dataframe tbody tr th {\n",
       "        vertical-align: top;\n",
       "    }\n",
       "\n",
       "    .dataframe thead th {\n",
       "        text-align: right;\n",
       "    }\n",
       "</style>\n",
       "<table border=\"1\" class=\"dataframe\">\n",
       "  <thead>\n",
       "    <tr style=\"text-align: right;\">\n",
       "      <th></th>\n",
       "      <th>Brand</th>\n",
       "      <th>Processor_Speed</th>\n",
       "      <th>RAM_Size</th>\n",
       "      <th>Storage_Capacity</th>\n",
       "      <th>Screen_Size</th>\n",
       "      <th>Weight</th>\n",
       "      <th>Price</th>\n",
       "    </tr>\n",
       "  </thead>\n",
       "  <tbody>\n",
       "    <tr>\n",
       "      <th>0</th>\n",
       "      <td>Asus</td>\n",
       "      <td>3.83</td>\n",
       "      <td>16</td>\n",
       "      <td>512</td>\n",
       "      <td>11.19</td>\n",
       "      <td>2.64</td>\n",
       "      <td>17395.09</td>\n",
       "    </tr>\n",
       "    <tr>\n",
       "      <th>1</th>\n",
       "      <td>Acer</td>\n",
       "      <td>2.91</td>\n",
       "      <td>4</td>\n",
       "      <td>1000</td>\n",
       "      <td>11.31</td>\n",
       "      <td>3.26</td>\n",
       "      <td>31607.61</td>\n",
       "    </tr>\n",
       "    <tr>\n",
       "      <th>2</th>\n",
       "      <td>Lenovo</td>\n",
       "      <td>3.24</td>\n",
       "      <td>4</td>\n",
       "      <td>256</td>\n",
       "      <td>11.85</td>\n",
       "      <td>2.03</td>\n",
       "      <td>9291.02</td>\n",
       "    </tr>\n",
       "    <tr>\n",
       "      <th>3</th>\n",
       "      <td>Acer</td>\n",
       "      <td>3.81</td>\n",
       "      <td>16</td>\n",
       "      <td>512</td>\n",
       "      <td>12.28</td>\n",
       "      <td>4.57</td>\n",
       "      <td>17436.73</td>\n",
       "    </tr>\n",
       "    <tr>\n",
       "      <th>4</th>\n",
       "      <td>Acer</td>\n",
       "      <td>3.27</td>\n",
       "      <td>32</td>\n",
       "      <td>1000</td>\n",
       "      <td>14.99</td>\n",
       "      <td>4.19</td>\n",
       "      <td>32917.99</td>\n",
       "    </tr>\n",
       "  </tbody>\n",
       "</table>\n",
       "</div>"
      ],
      "text/plain": [
       "    Brand  Processor_Speed  RAM_Size  Storage_Capacity  Screen_Size  Weight  \\\n",
       "0    Asus             3.83        16               512        11.19    2.64   \n",
       "1    Acer             2.91         4              1000        11.31    3.26   \n",
       "2  Lenovo             3.24         4               256        11.85    2.03   \n",
       "3    Acer             3.81        16               512        12.28    4.57   \n",
       "4    Acer             3.27        32              1000        14.99    4.19   \n",
       "\n",
       "      Price  \n",
       "0  17395.09  \n",
       "1  31607.61  \n",
       "2   9291.02  \n",
       "3  17436.73  \n",
       "4  32917.99  "
      ]
     },
     "execution_count": 9,
     "metadata": {},
     "output_type": "execute_result"
    }
   ],
   "source": [
    "df.head()"
   ]
  },
  {
   "cell_type": "code",
   "execution_count": 10,
   "metadata": {},
   "outputs": [
    {
     "name": "stdout",
     "output_type": "stream",
     "text": [
      "<class 'pandas.core.frame.DataFrame'>\n",
      "RangeIndex: 1013 entries, 0 to 1012\n",
      "Data columns (total 7 columns):\n",
      " #   Column            Non-Null Count  Dtype  \n",
      "---  ------            --------------  -----  \n",
      " 0   Brand             1013 non-null   object \n",
      " 1   Processor_Speed   1013 non-null   float64\n",
      " 2   RAM_Size          1013 non-null   int64  \n",
      " 3   Storage_Capacity  1013 non-null   int64  \n",
      " 4   Screen_Size       1013 non-null   float64\n",
      " 5   Weight            1013 non-null   float64\n",
      " 6   Price             1013 non-null   float64\n",
      "dtypes: float64(4), int64(2), object(1)\n",
      "memory usage: 55.5+ KB\n"
     ]
    }
   ],
   "source": [
    "df.info()"
   ]
  },
  {
   "cell_type": "code",
   "execution_count": 11,
   "metadata": {},
   "outputs": [
    {
     "data": {
      "image/png": "[encoded data removed]",
      "text/plain": [
       "<Figure size 640x480 with 1 Axes>"
      ]
     },
     "metadata": {},
     "output_type": "display_data"
    }
   ],
   "source": [
    "sns.histplot(df['Price'], bins=5)\n",
    "plt.show()"
   ]
  },
  {
   "cell_type": "code",
   "execution_count": 12,
   "metadata": {},
   "outputs": [
    {
     "name": "stdout",
     "output_type": "stream",
     "text": [
      "0.36507673939751895\n"
     ]
    }
   ],
   "source": [
    "print(df['Price'].skew())"
   ]
  },
  {
   "cell_type": "code",
   "execution_count": 13,
   "metadata": {},
   "outputs": [
    {
     "name": "stdout",
     "output_type": "stream",
     "text": [
      "['Asus' 'Acer' 'Lenovo' 'HP' 'Dell']\n"
     ]
    }
   ],
   "source": [
    "print(df['Brand'].unique())"
   ]
  },
  {
   "cell_type": "code",
   "execution_count": 14,
   "metadata": {},
   "outputs": [
    {
     "data": {
      "image/png": "[encoded data removed]",
      "text/plain": [
       "<Figure size 640x480 with 1 Axes>"
      ]
     },
     "metadata": {},
     "output_type": "display_data"
    }
   ],
   "source": [
    "df['Brand'].value_counts().plot(kind='bar')\n",
    "plt.show()"
   ]
  },
  {
   "cell_type": "code",
   "execution_count": 15,
   "metadata": {},
   "outputs": [
    {
     "data": {
      "image/png": "[encoded data removed]",
      "text/plain": [
       "<Figure size 640x480 with 1 Axes>"
      ]
     },
     "metadata": {},
     "output_type": "display_data"
    }
   ],
   "source": [
    "sns.barplot(x=df['Brand'], y=df['Price'])\n",
    "plt.show()"
   ]
  },
  {
   "cell_type": "code",
   "execution_count": 16,
   "metadata": {},
   "outputs": [
    {
     "name": "stdout",
     "output_type": "stream",
     "text": [
      "[16  4 32  8]\n"
     ]
    }
   ],
   "source": [
    "print(df['RAM_Size'].unique())"
   ]
  },
  {
   "cell_type": "code",
   "execution_count": 17,
   "metadata": {},
   "outputs": [
    {
     "data": {
      "image/png": "[encoded data removed]",
      "text/plain": [
       "<Figure size 640x480 with 1 Axes>"
      ]
     },
     "metadata": {},
     "output_type": "display_data"
    }
   ],
   "source": [
    "sns.barplot(x=df['RAM_Size'],y=df['Price'])\n",
    "plt.show()"
   ]
  },
  {
   "cell_type": "code",
   "execution_count": 18,
   "metadata": {},
   "outputs": [
    {
     "name": "stdout",
     "output_type": "stream",
     "text": [
      "[ 512 1000  256 1024  128]\n"
     ]
    }
   ],
   "source": [
    "print(df['Storage_Capacity'].unique())"
   ]
  },
  {
   "cell_type": "code",
   "execution_count": 19,
   "metadata": {},
   "outputs": [
    {
     "data": {
      "image/png": "[encoded data removed]",
      "text/plain": [
       "<Figure size 640x480 with 1 Axes>"
      ]
     },
     "metadata": {},
     "output_type": "display_data"
    }
   ],
   "source": [
    "sns.barplot(x=df['Storage_Capacity'],y=df['Price'])\n",
    "plt.show()"
   ]
  },
  {
   "cell_type": "code",
   "execution_count": 20,
   "metadata": {},
   "outputs": [
    {
     "data": {
      "image/png": "[encoded data removed]",
      "text/plain": [
       "<Figure size 640x480 with 1 Axes>"
      ]
     },
     "metadata": {},
     "output_type": "display_data"
    }
   ],
   "source": [
    "sns.scatterplot(x=df['Weight'],y=df['Price'])\n",
    "plt.show()"
   ]
  },
  {
   "cell_type": "code",
   "execution_count": 21,
   "metadata": {},
   "outputs": [
    {
     "name": "stdout",
     "output_type": "stream",
     "text": [
      "Processor_Speed    -0.051514\n",
      "RAM_Size            0.066324\n",
      "Storage_Capacity    0.993809\n",
      "Screen_Size        -0.024210\n",
      "Weight              0.040871\n",
      "Price               1.000000\n",
      "Name: Price, dtype: float64\n"
     ]
    }
   ],
   "source": [
    "num_df = df.select_dtypes(include='number')\n",
    "correlation = num_df.corr()\n",
    "print(correlation['Price'])\n"
   ]
  },
  {
   "cell_type": "code",
   "execution_count": 22,
   "metadata": {},
   "outputs": [
    {
     "data": {
      "text/plain": [
       "<Axes: >"
      ]
     },
     "execution_count": 22,
     "metadata": {},
     "output_type": "execute_result"
    },
    {
     "data": {
      "image/png": "[encoded data removed]",
      "text/plain": [
       "<Figure size 640x480 with 2 Axes>"
      ]
     },
     "metadata": {},
     "output_type": "display_data"
    }
   ],
   "source": [
    "sns.heatmap(num_df.corr())"
   ]
  },
  {
   "cell_type": "code",
   "execution_count": 23,
   "metadata": {},
   "outputs": [
    {
     "data": {
      "text/plain": [
       "<Axes: xlabel='Price', ylabel='Count'>"
      ]
     },
     "execution_count": 23,
     "metadata": {},
     "output_type": "execute_result"
    },
    {
     "data": {
      "image/png": "[encoded data removed]",
      "text/plain": [
       "<Figure size 640x480 with 1 Axes>"
      ]
     },
     "metadata": {},
     "output_type": "display_data"
    }
   ],
   "source": [
    "sns.histplot(np.log(df['Price']))"
   ]
  },
  {
   "cell_type": "code",
   "execution_count": 24,
   "metadata": {},
   "outputs": [],
   "source": [
    "df['Price'] = np.log(num_df['Price'])"
   ]
  },
  {
   "cell_type": "code",
   "execution_count": 25,
   "metadata": {},
   "outputs": [
    {
     "data": {
      "text/html": [
       "<div>\n",
       "<style scoped>\n",
       "    .dataframe tbody tr th:only-of-type {\n",
       "        vertical-align: middle;\n",
       "    }\n",
       "\n",
       "    .dataframe tbody tr th {\n",
       "        vertical-align: top;\n",
       "    }\n",
       "\n",
       "    .dataframe thead th {\n",
       "        text-align: right;\n",
       "    }\n",
       "</style>\n",
       "<table border=\"1\" class=\"dataframe\">\n",
       "  <thead>\n",
       "    <tr style=\"text-align: right;\">\n",
       "      <th></th>\n",
       "      <th>count</th>\n",
       "      <th>mean</th>\n",
       "      <th>std</th>\n",
       "      <th>min</th>\n",
       "      <th>1%</th>\n",
       "      <th>2%</th>\n",
       "      <th>3%</th>\n",
       "      <th>5%</th>\n",
       "      <th>50%</th>\n",
       "      <th>95%</th>\n",
       "      <th>96%</th>\n",
       "      <th>97%</th>\n",
       "      <th>98%</th>\n",
       "      <th>99%</th>\n",
       "      <th>max</th>\n",
       "    </tr>\n",
       "  </thead>\n",
       "  <tbody>\n",
       "    <tr>\n",
       "      <th>Processor_Speed</th>\n",
       "      <td>1013.0</td>\n",
       "      <td>2.755637</td>\n",
       "      <td>0.729467</td>\n",
       "      <td>1.51</td>\n",
       "      <td>1.5300</td>\n",
       "      <td>1.5600</td>\n",
       "      <td>1.580</td>\n",
       "      <td>1.610</td>\n",
       "      <td>2.77</td>\n",
       "      <td>3.880</td>\n",
       "      <td>3.9100</td>\n",
       "      <td>3.9300</td>\n",
       "      <td>3.9600</td>\n",
       "      <td>3.9800</td>\n",
       "      <td>4.00</td>\n",
       "    </tr>\n",
       "    <tr>\n",
       "      <th>RAM_Size</th>\n",
       "      <td>1013.0</td>\n",
       "      <td>15.490622</td>\n",
       "      <td>10.979372</td>\n",
       "      <td>4.00</td>\n",
       "      <td>4.0000</td>\n",
       "      <td>4.0000</td>\n",
       "      <td>4.000</td>\n",
       "      <td>4.000</td>\n",
       "      <td>16.00</td>\n",
       "      <td>32.000</td>\n",
       "      <td>32.0000</td>\n",
       "      <td>32.0000</td>\n",
       "      <td>32.0000</td>\n",
       "      <td>32.0000</td>\n",
       "      <td>32.00</td>\n",
       "    </tr>\n",
       "    <tr>\n",
       "      <th>Storage_Capacity</th>\n",
       "      <td>1013.0</td>\n",
       "      <td>583.644620</td>\n",
       "      <td>313.546285</td>\n",
       "      <td>128.00</td>\n",
       "      <td>256.0000</td>\n",
       "      <td>256.0000</td>\n",
       "      <td>256.000</td>\n",
       "      <td>256.000</td>\n",
       "      <td>512.00</td>\n",
       "      <td>1000.000</td>\n",
       "      <td>1000.0000</td>\n",
       "      <td>1000.0000</td>\n",
       "      <td>1000.0000</td>\n",
       "      <td>1000.0000</td>\n",
       "      <td>1024.00</td>\n",
       "    </tr>\n",
       "    <tr>\n",
       "      <th>Screen_Size</th>\n",
       "      <td>1013.0</td>\n",
       "      <td>14.042053</td>\n",
       "      <td>1.704039</td>\n",
       "      <td>11.01</td>\n",
       "      <td>11.0700</td>\n",
       "      <td>11.0924</td>\n",
       "      <td>11.170</td>\n",
       "      <td>11.300</td>\n",
       "      <td>14.08</td>\n",
       "      <td>16.640</td>\n",
       "      <td>16.6700</td>\n",
       "      <td>16.7628</td>\n",
       "      <td>16.8676</td>\n",
       "      <td>16.9200</td>\n",
       "      <td>16.99</td>\n",
       "    </tr>\n",
       "    <tr>\n",
       "      <th>Weight</th>\n",
       "      <td>1013.0</td>\n",
       "      <td>3.466782</td>\n",
       "      <td>0.863773</td>\n",
       "      <td>2.00</td>\n",
       "      <td>2.0300</td>\n",
       "      <td>2.0500</td>\n",
       "      <td>2.070</td>\n",
       "      <td>2.140</td>\n",
       "      <td>3.46</td>\n",
       "      <td>4.814</td>\n",
       "      <td>4.8600</td>\n",
       "      <td>4.9000</td>\n",
       "      <td>4.9400</td>\n",
       "      <td>4.9700</td>\n",
       "      <td>4.99</td>\n",
       "    </tr>\n",
       "    <tr>\n",
       "      <th>Price</th>\n",
       "      <td>1013.0</td>\n",
       "      <td>19590.137038</td>\n",
       "      <td>9384.263264</td>\n",
       "      <td>6367.65</td>\n",
       "      <td>8932.4764</td>\n",
       "      <td>8972.0092</td>\n",
       "      <td>9031.234</td>\n",
       "      <td>9110.002</td>\n",
       "      <td>17291.11</td>\n",
       "      <td>32817.744</td>\n",
       "      <td>32882.9356</td>\n",
       "      <td>32951.6412</td>\n",
       "      <td>33042.8336</td>\n",
       "      <td>33226.3316</td>\n",
       "      <td>33503.94</td>\n",
       "    </tr>\n",
       "  </tbody>\n",
       "</table>\n",
       "</div>"
      ],
      "text/plain": [
       "                   count          mean          std      min         1%  \\\n",
       "Processor_Speed   1013.0      2.755637     0.729467     1.51     1.5300   \n",
       "RAM_Size          1013.0     15.490622    10.979372     4.00     4.0000   \n",
       "Storage_Capacity  1013.0    583.644620   313.546285   128.00   256.0000   \n",
       "Screen_Size       1013.0     14.042053     1.704039    11.01    11.0700   \n",
       "Weight            1013.0      3.466782     0.863773     2.00     2.0300   \n",
       "Price             1013.0  19590.137038  9384.263264  6367.65  8932.4764   \n",
       "\n",
       "                         2%        3%        5%       50%        95%  \\\n",
       "Processor_Speed      1.5600     1.580     1.610      2.77      3.880   \n",
       "RAM_Size             4.0000     4.000     4.000     16.00     32.000   \n",
       "Storage_Capacity   256.0000   256.000   256.000    512.00   1000.000   \n",
       "Screen_Size         11.0924    11.170    11.300     14.08     16.640   \n",
       "Weight               2.0500     2.070     2.140      3.46      4.814   \n",
       "Price             8972.0092  9031.234  9110.002  17291.11  32817.744   \n",
       "\n",
       "                         96%         97%         98%         99%       max  \n",
       "Processor_Speed       3.9100      3.9300      3.9600      3.9800      4.00  \n",
       "RAM_Size             32.0000     32.0000     32.0000     32.0000     32.00  \n",
       "Storage_Capacity   1000.0000   1000.0000   1000.0000   1000.0000   1024.00  \n",
       "Screen_Size          16.6700     16.7628     16.8676     16.9200     16.99  \n",
       "Weight                4.8600      4.9000      4.9400      4.9700      4.99  \n",
       "Price             32882.9356  32951.6412  33042.8336  33226.3316  33503.94  "
      ]
     },
     "execution_count": 25,
     "metadata": {},
     "output_type": "execute_result"
    }
   ],
   "source": [
    "num_df.describe(percentiles=[0.01,0.02,0.03,0.05,0.95,0.96,0.97,0.98,0.99]).T\n"
   ]
  },
  {
   "cell_type": "code",
   "execution_count": 26,
   "metadata": {},
   "outputs": [
    {
     "data": {
      "text/html": [
       "<div>\n",
       "<style scoped>\n",
       "    .dataframe tbody tr th:only-of-type {\n",
       "        vertical-align: middle;\n",
       "    }\n",
       "\n",
       "    .dataframe tbody tr th {\n",
       "        vertical-align: top;\n",
       "    }\n",
       "\n",
       "    .dataframe thead th {\n",
       "        text-align: right;\n",
       "    }\n",
       "</style>\n",
       "<table border=\"1\" class=\"dataframe\">\n",
       "  <thead>\n",
       "    <tr style=\"text-align: right;\">\n",
       "      <th></th>\n",
       "      <th>count</th>\n",
       "      <th>mean</th>\n",
       "      <th>std</th>\n",
       "      <th>min</th>\n",
       "      <th>1%</th>\n",
       "      <th>2%</th>\n",
       "      <th>3%</th>\n",
       "      <th>5%</th>\n",
       "      <th>50%</th>\n",
       "      <th>95%</th>\n",
       "      <th>96%</th>\n",
       "      <th>97%</th>\n",
       "      <th>98%</th>\n",
       "      <th>99%</th>\n",
       "      <th>max</th>\n",
       "    </tr>\n",
       "  </thead>\n",
       "  <tbody>\n",
       "    <tr>\n",
       "      <th>Processor_Speed</th>\n",
       "      <td>1013.0</td>\n",
       "      <td>2.755637</td>\n",
       "      <td>0.729467</td>\n",
       "      <td>1.510000</td>\n",
       "      <td>1.530000</td>\n",
       "      <td>1.560000</td>\n",
       "      <td>1.580000</td>\n",
       "      <td>1.610000</td>\n",
       "      <td>2.770000</td>\n",
       "      <td>3.880000</td>\n",
       "      <td>3.910000</td>\n",
       "      <td>3.930000</td>\n",
       "      <td>3.96000</td>\n",
       "      <td>3.980000</td>\n",
       "      <td>4.000000</td>\n",
       "    </tr>\n",
       "    <tr>\n",
       "      <th>RAM_Size</th>\n",
       "      <td>1013.0</td>\n",
       "      <td>15.490622</td>\n",
       "      <td>10.979372</td>\n",
       "      <td>4.000000</td>\n",
       "      <td>4.000000</td>\n",
       "      <td>4.000000</td>\n",
       "      <td>4.000000</td>\n",
       "      <td>4.000000</td>\n",
       "      <td>16.000000</td>\n",
       "      <td>32.000000</td>\n",
       "      <td>32.000000</td>\n",
       "      <td>32.000000</td>\n",
       "      <td>32.00000</td>\n",
       "      <td>32.000000</td>\n",
       "      <td>32.000000</td>\n",
       "    </tr>\n",
       "    <tr>\n",
       "      <th>Storage_Capacity</th>\n",
       "      <td>1013.0</td>\n",
       "      <td>583.644620</td>\n",
       "      <td>313.546285</td>\n",
       "      <td>128.000000</td>\n",
       "      <td>256.000000</td>\n",
       "      <td>256.000000</td>\n",
       "      <td>256.000000</td>\n",
       "      <td>256.000000</td>\n",
       "      <td>512.000000</td>\n",
       "      <td>1000.000000</td>\n",
       "      <td>1000.000000</td>\n",
       "      <td>1000.000000</td>\n",
       "      <td>1000.00000</td>\n",
       "      <td>1000.000000</td>\n",
       "      <td>1024.000000</td>\n",
       "    </tr>\n",
       "    <tr>\n",
       "      <th>Screen_Size</th>\n",
       "      <td>1013.0</td>\n",
       "      <td>14.042053</td>\n",
       "      <td>1.704039</td>\n",
       "      <td>11.010000</td>\n",
       "      <td>11.070000</td>\n",
       "      <td>11.092400</td>\n",
       "      <td>11.170000</td>\n",
       "      <td>11.300000</td>\n",
       "      <td>14.080000</td>\n",
       "      <td>16.640000</td>\n",
       "      <td>16.670000</td>\n",
       "      <td>16.762800</td>\n",
       "      <td>16.86760</td>\n",
       "      <td>16.920000</td>\n",
       "      <td>16.990000</td>\n",
       "    </tr>\n",
       "    <tr>\n",
       "      <th>Weight</th>\n",
       "      <td>1013.0</td>\n",
       "      <td>3.466782</td>\n",
       "      <td>0.863773</td>\n",
       "      <td>2.000000</td>\n",
       "      <td>2.030000</td>\n",
       "      <td>2.050000</td>\n",
       "      <td>2.070000</td>\n",
       "      <td>2.140000</td>\n",
       "      <td>3.460000</td>\n",
       "      <td>4.814000</td>\n",
       "      <td>4.860000</td>\n",
       "      <td>4.900000</td>\n",
       "      <td>4.94000</td>\n",
       "      <td>4.970000</td>\n",
       "      <td>4.990000</td>\n",
       "    </tr>\n",
       "    <tr>\n",
       "      <th>Price</th>\n",
       "      <td>1013.0</td>\n",
       "      <td>9.762292</td>\n",
       "      <td>0.497049</td>\n",
       "      <td>8.758986</td>\n",
       "      <td>9.097449</td>\n",
       "      <td>9.101865</td>\n",
       "      <td>9.108444</td>\n",
       "      <td>9.117128</td>\n",
       "      <td>9.757948</td>\n",
       "      <td>10.398725</td>\n",
       "      <td>10.400709</td>\n",
       "      <td>10.402796</td>\n",
       "      <td>10.40556</td>\n",
       "      <td>10.411098</td>\n",
       "      <td>10.419418</td>\n",
       "    </tr>\n",
       "  </tbody>\n",
       "</table>\n",
       "</div>"
      ],
      "text/plain": [
       "                   count        mean         std         min          1%  \\\n",
       "Processor_Speed   1013.0    2.755637    0.729467    1.510000    1.530000   \n",
       "RAM_Size          1013.0   15.490622   10.979372    4.000000    4.000000   \n",
       "Storage_Capacity  1013.0  583.644620  313.546285  128.000000  256.000000   \n",
       "Screen_Size       1013.0   14.042053    1.704039   11.010000   11.070000   \n",
       "Weight            1013.0    3.466782    0.863773    2.000000    2.030000   \n",
       "Price             1013.0    9.762292    0.497049    8.758986    9.097449   \n",
       "\n",
       "                          2%          3%          5%         50%          95%  \\\n",
       "Processor_Speed     1.560000    1.580000    1.610000    2.770000     3.880000   \n",
       "RAM_Size            4.000000    4.000000    4.000000   16.000000    32.000000   \n",
       "Storage_Capacity  256.000000  256.000000  256.000000  512.000000  1000.000000   \n",
       "Screen_Size        11.092400   11.170000   11.300000   14.080000    16.640000   \n",
       "Weight              2.050000    2.070000    2.140000    3.460000     4.814000   \n",
       "Price               9.101865    9.108444    9.117128    9.757948    10.398725   \n",
       "\n",
       "                          96%          97%         98%          99%  \\\n",
       "Processor_Speed      3.910000     3.930000     3.96000     3.980000   \n",
       "RAM_Size            32.000000    32.000000    32.00000    32.000000   \n",
       "Storage_Capacity  1000.000000  1000.000000  1000.00000  1000.000000   \n",
       "Screen_Size         16.670000    16.762800    16.86760    16.920000   \n",
       "Weight               4.860000     4.900000     4.94000     4.970000   \n",
       "Price               10.400709    10.402796    10.40556    10.411098   \n",
       "\n",
       "                          max  \n",
       "Processor_Speed      4.000000  \n",
       "RAM_Size            32.000000  \n",
       "Storage_Capacity  1024.000000  \n",
       "Screen_Size         16.990000  \n",
       "Weight               4.990000  \n",
       "Price               10.419418  "
      ]
     },
     "execution_count": 26,
     "metadata": {},
     "output_type": "execute_result"
    }
   ],
   "source": [
    "df_filetered = df[df['Price']<=33000]\n",
    "df_filetered.describe(percentiles=[0.01,0.02,0.03,0.05,0.95,0.96,0.97,0.98,0.99]).T"
   ]
  },
  {
   "cell_type": "code",
   "execution_count": 27,
   "metadata": {},
   "outputs": [
    {
     "name": "stdout",
     "output_type": "stream",
     "text": [
      "corr =  0.98\n",
      "P_value =  0.0\n",
      "Reject the null hypothesis\n"
     ]
    }
   ],
   "source": [
    "df = df[df['Price']<=33000]\n",
    "price = df['Price']\n",
    "storage = df['Storage_Capacity']\n",
    "corr,p_value = stats.pearsonr(price,storage)\n",
    "print(\"corr = \",round(corr,3))\n",
    "print(\"P_value = \",round(p_value,3))\n",
    "if(p_value < 0.05):\n",
    "    print(\"Reject the null hypothesis\")"
   ]
  },
  {
   "cell_type": "code",
   "execution_count": 28,
   "metadata": {},
   "outputs": [
    {
     "name": "stdout",
     "output_type": "stream",
     "text": [
      "10.419418322837714\n"
     ]
    }
   ],
   "source": [
    "print(df['Price'].max())"
   ]
  },
  {
   "cell_type": "code",
   "execution_count": 29,
   "metadata": {},
   "outputs": [],
   "source": [
    "from sklearn.preprocessing import LabelEncoder\n",
    "\n",
    "# Assuming 'column_name' is the string column\n",
    "encoder = LabelEncoder()\n",
    "df['Brand'] = encoder.fit_transform(df['Brand'])\n",
    "df.head()\n",
    "\n",
    "testing = pd.read_csv('test.csv')\n",
    "testing['Brand'] = encoder.fit_transform(testing['Brand'])\n",
    "testing = testing[testing['Price']<=33000]\n",
    "testing['Price'] = np.log(testing['Price'])"
   ]
  },
  {
   "cell_type": "code",
   "execution_count": 30,
   "metadata": {},
   "outputs": [],
   "source": [
    "x = df.drop('Price',axis=1)\n",
    "y = df['Price']\n",
    "X_train, x_test, Y_train, y_test = train_test_split(x,y,test_size=0.2, random_state=42)\n",
    "df.head()\n",
    "new_x = testing.drop('Price',axis=1)\n",
    "new_y = testing['Price']\n",
    "newX_train, newX_test, newY_train, newY_test = train_test_split(new_x,new_y,test_size=0.2, random_state=42)"
   ]
  },
  {
   "cell_type": "code",
   "execution_count": 31,
   "metadata": {},
   "outputs": [
    {
     "name": "stdout",
     "output_type": "stream",
     "text": [
      "Mean Squared Error: 0.002491017852644417\n"
     ]
    }
   ],
   "source": [
    "model = DecisionTreeRegressor( max_depth=8,min_samples_split=8,min_samples_leaf=8, random_state=42)\n",
    "model.fit(X_train, Y_train)\n",
    "y_pred = model.predict(x_test)\n",
    "mse = mean_squared_error(y_test, y_pred)\n",
    "print(f'Mean Squared Error: {mse}')"
   ]
  },
  {
   "cell_type": "code",
   "execution_count": 32,
   "metadata": {},
   "outputs": [
    {
     "name": "stdout",
     "output_type": "stream",
     "text": [
      "       Actual     Predicted\n",
      "689  16640.73  16841.091665\n",
      "518  31809.78  31620.877289\n",
      "940  10404.66  10546.918221\n",
      "96    9491.27   9636.355536\n",
      "578  10413.73  10522.064034\n"
     ]
    }
   ],
   "source": [
    "\n",
    "y_test_unlogged = np.exp(y_test)\n",
    "predictions_unlogged = np.exp(y_pred)\n",
    "comparison_df = pd.DataFrame({'Actual': y_test_unlogged, 'Predicted': predictions_unlogged})\n",
    "\n",
    "# Print the first few rows of the comparison\n",
    "print(comparison_df.head())"
   ]
  },
  {
   "cell_type": "code",
   "execution_count": 33,
   "metadata": {},
   "outputs": [
    {
     "name": "stdout",
     "output_type": "stream",
     "text": [
      "11    10.123110\n",
      "9     10.109742\n",
      "0      9.676287\n",
      "Name: Price, dtype: float64\n"
     ]
    }
   ],
   "source": [
    "print(newY_test)"
   ]
  },
  {
   "cell_type": "code",
   "execution_count": 34,
   "metadata": {},
   "outputs": [
    {
     "name": "stdout",
     "output_type": "stream",
     "text": [
      "Mean Squared Error: 0.028491652291908903\n"
     ]
    }
   ],
   "source": [
    "y_predd = model.predict(newX_test)\n",
    "msee = mean_squared_error(newY_test, y_predd)\n",
    "print(f'Mean Squared Error: {msee}')"
   ]
  },
  {
   "cell_type": "code",
   "execution_count": 35,
   "metadata": {},
   "outputs": [
    {
     "name": "stdout",
     "output_type": "stream",
     "text": [
      "          Actual     Predicted\n",
      "11  24912.137050  29257.246905\n",
      "9   24581.328189  19351.414737\n",
      "0   15935.214876  16735.364659\n"
     ]
    }
   ],
   "source": [
    "y_test_unloggedd = np.exp(newY_test)\n",
    "predictions_unloggedd = np.exp(y_predd)\n",
    "comparison_ddf = pd.DataFrame({'Actual': y_test_unloggedd, 'Predicted': predictions_unloggedd})\n",
    "\n",
    "# Print the first few rows of the comparison\n",
    "print(comparison_ddf.head())"
   ]
  },
  {
   "cell_type": "code",
   "execution_count": null,
   "metadata": {},
   "outputs": [],
   "source": []
  }
 ],
 "metadata": {
  "kernelspec": {
   "display_name": "Python 3",
   "language": "python",
   "name": "python3"
  },
  "language_info": {
   "codemirror_mode": {
    "name": "ipython",
    "version": 3
   },
   "file_extension": ".py",
   "mimetype": "text/x-python",
   "name": "python",
   "nbconvert_exporter": "python",
   "pygments_lexer": "ipython3",
   "version": "3.12.5"
  }
 },
 "nbformat": 4,
 "nbformat_minor": 2
}
